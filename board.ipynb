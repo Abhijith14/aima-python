{
 "cells": [
  {
   "cell_type": "code",
   "execution_count": 2,
   "metadata": {},
   "outputs": [],
   "source": [
    "import time\n",
    "import random\n",
    "\n",
    "start = time.time()\n",
    "\n",
    "BOARD = '...0....00.00..0...0.0.....0.0...0..00.00....0...'"
   ]
  },
  {
   "cell_type": "code",
   "execution_count": 3,
   "metadata": {},
   "outputs": [],
   "source": [
    "def create_board(board):\n",
    "\n",
    "    output = []\n",
    "    for n in board:\n",
    "        if n != '.':\n",
    "            term = int(n)\n",
    "        else:\n",
    "            term = 'X'\n",
    "        output.append(term)\n",
    "    return output"
   ]
  },
  {
   "cell_type": "code",
   "execution_count": 4,
   "metadata": {},
   "outputs": [],
   "source": [
    "def populate_board(boardlist):\n",
    "    \"\"\"Populates board with new values to prevent overwriting\n",
    "    hard values\"\"\"\n",
    "    output = []\n",
    "    board = create_board(BOARD)\n",
    "    #print(\"Board:\",board)\n",
    "    i = 0\n",
    "    for j in range(36):\n",
    "        if board[j] == 'X':\n",
    "            output.append(boardlist[i]) #solution board\n",
    "            i += 1\n",
    "        else:\n",
    "            output.append(board[j]) #hard-coded board\n",
    "\n",
    "    return output"
   ]
  },
  {
   "cell_type": "code",
   "execution_count": 7,
   "metadata": {},
   "outputs": [
    {
     "ename": "SyntaxError",
     "evalue": "invalid syntax. Perhaps you forgot a comma? (1907534743.py, line 5)",
     "output_type": "error",
     "traceback": [
      "\u001b[0;36m  Cell \u001b[0;32mIn [7], line 5\u001b[0;36m\u001b[0m\n\u001b[0;31m    print(\"{} {} {} {} {} {} {}\".format(board[14], board[15], board[16], board[17], board[18], board[19] board[20]))\u001b[0m\n\u001b[0m                                                                                               ^\u001b[0m\n\u001b[0;31mSyntaxError\u001b[0m\u001b[0;31m:\u001b[0m invalid syntax. Perhaps you forgot a comma?\n"
     ]
    }
   ],
   "source": [
    "def print_board(board):\n",
    "    \"\"\"Makes the board pretty\"\"\"\n",
    "    print(\"{} {} {} {} {} {} {}\".format(board[0],board[1],board[2],board[3],board[4],board[5],board[6]))\n",
    "    print(\"{} {} {} {} {} {} {}\".format(board[7], board[8], board[9], board[10], board[11], board[12],board[13]))\n",
    "    print(\"{} {} {} {} {} {} {}\".format(board[14], board[15], board[16], board[17], board[18], board[19] board[20]))\n",
    "    print(\"{} {} {} {} {} {} {}\".format(board[21], board[22], board[23], board[24], board[25], board[26],board[27]))\n",
    "    print(\"{} {} {} {} {} {} {}\".format(board[28], board[29], board[30], board[31], board[32], board[33],board[34]))\n",
    "    print(\"{} {} {} {} {} {} {}\".format(board[35], board[36], board[37], board[38], board[39], board[40],board[41]))\n",
    "    print(\"{} {} {} {} {} {} {}\".format(board[42], board[43], board[44], board[45], board[46], board[47],board[48]))\n",
    "    print()\n"
   ]
  },
  {
   "cell_type": "code",
   "execution_count": null,
   "metadata": {},
   "outputs": [],
   "source": [
    "def print_board(board):\n",
    "    \"\"\"Makes the board pretty\"\"\"\n",
    "    print(\"{} {} {} | {} {} {}\".format(board[0],board[1],board[2],board[3],board[4],board[5]))\n",
    "    print(\"{} {} {} | {} {} {}\".format(board[6], board[7], board[8], board[9], board[10], board[11]))\n",
    "    print(\"{} {} {} | {} {} {}\".format(board[12], board[13], board[14], board[15], board[16], board[17]))\n",
    "    print(\"------|------\")\n",
    "    print(\"{} {} {} | {} {} {}\".format(board[18], board[19], board[20], board[21], board[22], board[23]))\n",
    "    print(\"{} {} {} | {} {} {}\".format(board[24], board[25], board[26], board[27], board[28], board[29]))\n",
    "    print(\"{} {} {} | {} {} {}\".format(board[30], board[31], board[32], board[33], board[34], board[35]))\n",
    "    print()\n"
   ]
  }
 ],
 "metadata": {
  "kernelspec": {
   "display_name": "Python 3.10.4 64-bit",
   "language": "python",
   "name": "python3"
  },
  "language_info": {
   "codemirror_mode": {
    "name": "ipython",
    "version": 3
   },
   "file_extension": ".py",
   "mimetype": "text/x-python",
   "name": "python",
   "nbconvert_exporter": "python",
   "pygments_lexer": "ipython3",
   "version": "3.10.4"
  },
  "orig_nbformat": 4,
  "vscode": {
   "interpreter": {
    "hash": "aee8b7b246df8f9039afb4144a1f6fd8d2ca17a180786b69acc140d282b71a49"
   }
  }
 },
 "nbformat": 4,
 "nbformat_minor": 2
}
