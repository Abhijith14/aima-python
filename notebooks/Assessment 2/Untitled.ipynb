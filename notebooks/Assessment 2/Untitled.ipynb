{
 "cells": [
  {
   "cell_type": "markdown",
   "id": "8eb5e916",
   "metadata": {},
   "source": [
    "Boris Johnson is the prime minister of UK. Sanna Marin is the prime minister of Finland. Videos of parties at the Downing Street attended by Boris Johnson were publicly leaked. Videos of private parties attended by Sanna Miran were publicly leaked. The Downing Street parties violated Covid-19 lockdown laws. Social gatherings violating Covid-19 lockdown laws are illegal. The prime minister ofa country who attends illegal parties is disapproved by the citizens of that country. The primeminister of a country who is disapproved by its citizens loses their trust. The prime minister of a country resigns from the prime minister post after losing its citizens' trust."
   ]
  },
  {
   "cell_type": "markdown",
   "id": "1fdd15c4",
   "metadata": {},
   "source": [
    "- primemin(x, y) : x is the name and y is the country\n",
    "- videos(x, z) : x is the name, z is the party\n",
    "\n",
    "\n",
    "- violate(z) : z is the party\n",
    "\n",
    "- illegal(z) : z is the violation\n",
    "\n",
    "- citizen_hate(x) : x is the prime minister who attends illegal parties\n",
    "\n",
    "- lost_trust(x) : x is the pm who is disapproved by the citizens\n",
    "\n",
    "- resign(x, y) : x is pm who resigned and y is the country"
   ]
  },
  {
   "cell_type": "markdown",
   "id": "9f2b3927",
   "metadata": {},
   "source": [
    "PM(UK, Boris Johnson)\n",
    "\n",
    "PM(Finland, Sanna Marin)\n",
    "\n",
    "Vid(Boris Johnson, Downing Street)\n",
    "\n",
    "Vid(Sanna Miran, private)\n",
    "\n"
   ]
  },
  {
   "cell_type": "code",
   "execution_count": 1,
   "id": "71529885",
   "metadata": {},
   "outputs": [],
   "source": [
    "import sys\n",
    "sys.path.insert(0, r\"C:\\Users\\ABHIJITH UDAYAKUMAR\\Python Notebooks\\aima-python\")\n",
    "\n",
    "from utils import *\n",
    "from logic import *\n",
    "from notebook import psource"
   ]
  },
  {
   "cell_type": "code",
   "execution_count": 2,
   "id": "a457fab4",
   "metadata": {},
   "outputs": [],
   "source": [
    "clauses = []"
   ]
  },
  {
   "cell_type": "markdown",
   "id": "ce415463",
   "metadata": {},
   "source": [
    "primemin(x, y) ∧ videos(x, z) ∧ violate(z) ∧ illegal(z) ∧ citizen_hate(x) ∧ lost_trust(x) ⟹ resign(x)"
   ]
  },
  {
   "cell_type": "markdown",
   "id": "833c26bc",
   "metadata": {},
   "source": [
    "violate(z) ⟹ illegal(z)"
   ]
  },
  {
   "cell_type": "markdown",
   "id": "4ebbeb29",
   "metadata": {},
   "source": [
    "# Criminal Problem"
   ]
  },
  {
   "cell_type": "code",
   "execution_count": 3,
   "id": "d066c224",
   "metadata": {},
   "outputs": [],
   "source": [
    "clauses = []"
   ]
  },
  {
   "cell_type": "code",
   "execution_count": 4,
   "id": "947b5b50",
   "metadata": {},
   "outputs": [],
   "source": [
    "clauses.append(expr(\"(American(x) & Weapon(y) & Sells(x, y, z) & Hostile(z)) ==> Criminal(x)\"))"
   ]
  },
  {
   "cell_type": "code",
   "execution_count": 5,
   "id": "169d1cab",
   "metadata": {},
   "outputs": [],
   "source": [
    "clauses.append(expr(\"Enemy(Nono, America)\"))"
   ]
  },
  {
   "cell_type": "code",
   "execution_count": 6,
   "id": "133fa43d",
   "metadata": {},
   "outputs": [],
   "source": [
    "clauses.append(expr(\"Owns(Nono, M1)\"))\n",
    "clauses.append(expr(\"Missile(M1)\"))"
   ]
  },
  {
   "cell_type": "code",
   "execution_count": 7,
   "id": "a7314396",
   "metadata": {},
   "outputs": [],
   "source": [
    "clauses.append(expr(\"(Missile(x) & Owns(Nono, x)) ==> Sells(West, x, Nono)\"))"
   ]
  },
  {
   "cell_type": "code",
   "execution_count": 8,
   "id": "b45a187b",
   "metadata": {},
   "outputs": [],
   "source": [
    "clauses.append(expr(\"American(West)\"))"
   ]
  },
  {
   "cell_type": "code",
   "execution_count": 9,
   "id": "9f22d007",
   "metadata": {},
   "outputs": [],
   "source": [
    "clauses.append(expr(\"Missile(x) ==> Weapon(x)\"))\n",
    "clauses.append(expr(\"Enemy(x, America) ==> Hostile(x)\"))"
   ]
  },
  {
   "cell_type": "code",
   "execution_count": 10,
   "id": "88009cbf",
   "metadata": {},
   "outputs": [],
   "source": [
    "crime_kb = FolKB(clauses)"
   ]
  },
  {
   "cell_type": "code",
   "execution_count": 11,
   "id": "ec340c0b",
   "metadata": {},
   "outputs": [
    {
     "data": {
      "text/plain": [
       "[((((American(x) & Weapon(y)) & Sells(x, y, z)) & Hostile(z)) ==> Criminal(x)),\n",
       " Enemy(Nono, America),\n",
       " Owns(Nono, M1),\n",
       " Missile(M1),\n",
       " ((Missile(x) & Owns(Nono, x)) ==> Sells(West, x, Nono)),\n",
       " American(West),\n",
       " (Missile(x) ==> Weapon(x)),\n",
       " (Enemy(x, America) ==> Hostile(x))]"
      ]
     },
     "execution_count": 11,
     "metadata": {},
     "output_type": "execute_result"
    }
   ],
   "source": [
    "clauses"
   ]
  },
  {
   "cell_type": "code",
   "execution_count": 13,
   "id": "1ef561fa",
   "metadata": {},
   "outputs": [
    {
     "name": "stdout",
     "output_type": "stream",
     "text": [
      "[{x: West}]\n"
     ]
    }
   ],
   "source": [
    "answer = fol_fc_ask(crime_kb, expr('Criminal(x)'))\n",
    "print(list(answer))"
   ]
  },
  {
   "cell_type": "code",
   "execution_count": null,
   "id": "3bb32971",
   "metadata": {},
   "outputs": [],
   "source": []
  },
  {
   "cell_type": "code",
   "execution_count": null,
   "id": "b34ff281",
   "metadata": {},
   "outputs": [],
   "source": []
  }
 ],
 "metadata": {
  "kernelspec": {
   "display_name": "Python 3",
   "language": "python",
   "name": "python3"
  },
  "language_info": {
   "codemirror_mode": {
    "name": "ipython",
    "version": 3
   },
   "file_extension": ".py",
   "mimetype": "text/x-python",
   "name": "python",
   "nbconvert_exporter": "python",
   "pygments_lexer": "ipython3",
   "version": "3.8.8"
  }
 },
 "nbformat": 4,
 "nbformat_minor": 5
}
